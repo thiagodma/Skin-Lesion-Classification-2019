{
 "cells": [
  {
   "cell_type": "code",
   "execution_count": 1,
   "metadata": {},
   "outputs": [],
   "source": [
    "import pandas as pd\n",
    "import numpy as np"
   ]
  },
  {
   "cell_type": "code",
   "execution_count": 2,
   "metadata": {},
   "outputs": [
    {
     "data": {
      "text/html": [
       "<div>\n",
       "<style scoped>\n",
       "    .dataframe tbody tr th:only-of-type {\n",
       "        vertical-align: middle;\n",
       "    }\n",
       "\n",
       "    .dataframe tbody tr th {\n",
       "        vertical-align: top;\n",
       "    }\n",
       "\n",
       "    .dataframe thead th {\n",
       "        text-align: right;\n",
       "    }\n",
       "</style>\n",
       "<table border=\"1\" class=\"dataframe\">\n",
       "  <thead>\n",
       "    <tr style=\"text-align: right;\">\n",
       "      <th></th>\n",
       "      <th>image</th>\n",
       "      <th>MEL</th>\n",
       "      <th>NV</th>\n",
       "      <th>BCC</th>\n",
       "      <th>AK</th>\n",
       "      <th>BKL</th>\n",
       "      <th>DF</th>\n",
       "      <th>VASC</th>\n",
       "      <th>SCC</th>\n",
       "      <th>UNK</th>\n",
       "    </tr>\n",
       "  </thead>\n",
       "  <tbody>\n",
       "    <tr>\n",
       "      <th>0</th>\n",
       "      <td>ISIC_0000000</td>\n",
       "      <td>0.0</td>\n",
       "      <td>1.0</td>\n",
       "      <td>0.0</td>\n",
       "      <td>0.0</td>\n",
       "      <td>0.0</td>\n",
       "      <td>0.0</td>\n",
       "      <td>0.0</td>\n",
       "      <td>0.0</td>\n",
       "      <td>0.0</td>\n",
       "    </tr>\n",
       "    <tr>\n",
       "      <th>1</th>\n",
       "      <td>ISIC_0000001</td>\n",
       "      <td>0.0</td>\n",
       "      <td>1.0</td>\n",
       "      <td>0.0</td>\n",
       "      <td>0.0</td>\n",
       "      <td>0.0</td>\n",
       "      <td>0.0</td>\n",
       "      <td>0.0</td>\n",
       "      <td>0.0</td>\n",
       "      <td>0.0</td>\n",
       "    </tr>\n",
       "    <tr>\n",
       "      <th>2</th>\n",
       "      <td>ISIC_0000002</td>\n",
       "      <td>1.0</td>\n",
       "      <td>0.0</td>\n",
       "      <td>0.0</td>\n",
       "      <td>0.0</td>\n",
       "      <td>0.0</td>\n",
       "      <td>0.0</td>\n",
       "      <td>0.0</td>\n",
       "      <td>0.0</td>\n",
       "      <td>0.0</td>\n",
       "    </tr>\n",
       "    <tr>\n",
       "      <th>3</th>\n",
       "      <td>ISIC_0000003</td>\n",
       "      <td>0.0</td>\n",
       "      <td>1.0</td>\n",
       "      <td>0.0</td>\n",
       "      <td>0.0</td>\n",
       "      <td>0.0</td>\n",
       "      <td>0.0</td>\n",
       "      <td>0.0</td>\n",
       "      <td>0.0</td>\n",
       "      <td>0.0</td>\n",
       "    </tr>\n",
       "    <tr>\n",
       "      <th>4</th>\n",
       "      <td>ISIC_0000004</td>\n",
       "      <td>1.0</td>\n",
       "      <td>0.0</td>\n",
       "      <td>0.0</td>\n",
       "      <td>0.0</td>\n",
       "      <td>0.0</td>\n",
       "      <td>0.0</td>\n",
       "      <td>0.0</td>\n",
       "      <td>0.0</td>\n",
       "      <td>0.0</td>\n",
       "    </tr>\n",
       "  </tbody>\n",
       "</table>\n",
       "</div>"
      ],
      "text/plain": [
       "          image  MEL   NV  BCC   AK  BKL   DF  VASC  SCC  UNK\n",
       "0  ISIC_0000000  0.0  1.0  0.0  0.0  0.0  0.0   0.0  0.0  0.0\n",
       "1  ISIC_0000001  0.0  1.0  0.0  0.0  0.0  0.0   0.0  0.0  0.0\n",
       "2  ISIC_0000002  1.0  0.0  0.0  0.0  0.0  0.0   0.0  0.0  0.0\n",
       "3  ISIC_0000003  0.0  1.0  0.0  0.0  0.0  0.0   0.0  0.0  0.0\n",
       "4  ISIC_0000004  1.0  0.0  0.0  0.0  0.0  0.0   0.0  0.0  0.0"
      ]
     },
     "execution_count": 2,
     "metadata": {},
     "output_type": "execute_result"
    }
   ],
   "source": [
    "df = pd.read_csv('ISIC_2019_Training_GroundTruth.csv')\n",
    "df.head()"
   ]
  },
  {
   "cell_type": "code",
   "execution_count": 3,
   "metadata": {},
   "outputs": [
    {
     "data": {
      "text/plain": [
       "array([ 4522., 12875.,  3323.,   867.,  2624.,   239.,   253.,   628.])"
      ]
     },
     "execution_count": 3,
     "metadata": {},
     "output_type": "execute_result"
    }
   ],
   "source": [
    "#checking the amount of data of each class\n",
    "columns = list(df)\n",
    "columns = columns[1:9]\n",
    "count = np.zeros(8)\n",
    "i=0\n",
    "for column in columns:\n",
    "    count[i] = sum(df[column])\n",
    "    i = i+1\n",
    "    \n",
    "count"
   ]
  },
  {
   "cell_type": "code",
   "execution_count": 4,
   "metadata": {},
   "outputs": [],
   "source": [
    "df_MEL = df[df['MEL'] == 1]\n",
    "df_NV = df[df['NV'] == 1]\n",
    "df_BCC = df[df['BCC'] == 1]\n",
    "df_AK = df[df['AK'] == 1]\n",
    "df_BKL = df[df['BKL'] == 1]\n",
    "df_DF = df[df['DF'] == 1]\n",
    "df_VASC = df[df['VASC'] == 1]\n",
    "df_SCC = df[df['SCC'] == 1]"
   ]
  },
  {
   "cell_type": "code",
   "execution_count": 5,
   "metadata": {},
   "outputs": [],
   "source": [
    "#separates data into validation and training sets\n",
    "df_valid_MEL = df_MEL.sample(frac=0.2,random_state=1)\n",
    "df_MEL = pd.concat([df_MEL, df_valid_MEL]).drop_duplicates(keep=False)\n",
    "df_valid_NV = df_NV.sample(frac=0.2,random_state=1)\n",
    "df_NV = pd.concat([df_NV, df_valid_NV]).drop_duplicates(keep=False)\n",
    "df_valid_BCC = df_BCC.sample(frac=0.2,random_state=1)\n",
    "df_BCC = pd.concat([df_BCC, df_valid_BCC]).drop_duplicates(keep=False)\n",
    "df_valid_AK = df_AK.sample(frac=0.2,random_state=1)\n",
    "df_AK = pd.concat([df_AK, df_valid_AK]).drop_duplicates(keep=False)\n",
    "df_valid_BKL = df_BKL.sample(frac=0.2,random_state=1)\n",
    "df_BKL = pd.concat([df_BKL, df_valid_BKL]).drop_duplicates(keep=False)\n",
    "df_valid_DF = df_DF.sample(frac=0.2,random_state=1)\n",
    "df_DF = pd.concat([df_DF, df_valid_DF]).drop_duplicates(keep=False)\n",
    "df_valid_VASC = df_VASC.sample(frac=0.2,random_state=1)\n",
    "df_VASC = pd.concat([df_VASC, df_valid_VASC]).drop_duplicates(keep=False)\n",
    "df_valid_SCC = df_SCC.sample(frac=0.2,random_state=1)\n",
    "df_SCC = pd.concat([df_SCC, df_valid_SCC]).drop_duplicates(keep=False)"
   ]
  },
  {
   "cell_type": "code",
   "execution_count": 6,
   "metadata": {
    "scrolled": true
   },
   "outputs": [
    {
     "name": "stdout",
     "output_type": "stream",
     "text": [
      "(5067, 10)\n",
      "904.0\n",
      "2575.0\n",
      "665.0\n",
      "173.0\n",
      "525.0\n",
      "48.0\n",
      "51.0\n",
      "126.0\n"
     ]
    }
   ],
   "source": [
    "#creates the validation dataframe\n",
    "columns = list(df)\n",
    "columns = columns[1:9]\n",
    "df_valid = df_valid_MEL\n",
    "df_valid = df_valid.append(df_valid_NV, ignore_index=True)\n",
    "df_valid = df_valid.append(df_valid_BCC, ignore_index=True)\n",
    "df_valid = df_valid.append(df_valid_AK, ignore_index=True)\n",
    "df_valid = df_valid.append(df_valid_BKL, ignore_index=True)\n",
    "df_valid = df_valid.append(df_valid_DF, ignore_index=True)\n",
    "df_valid = df_valid.append(df_valid_VASC, ignore_index=True)\n",
    "df_valid = df_valid.append(df_valid_SCC, ignore_index=True)\n",
    "print(df_valid.shape)\n",
    "for column in columns:\n",
    "    print(sum(df_valid[column]))"
   ]
  },
  {
   "cell_type": "code",
   "execution_count": 7,
   "metadata": {},
   "outputs": [],
   "source": [
    "#saves the validation dataframe into a csv file\n",
    "df_valid.to_csv('valid_ground_truth.csv')"
   ]
  },
  {
   "cell_type": "code",
   "execution_count": 8,
   "metadata": {
    "scrolled": true
   },
   "outputs": [
    {
     "name": "stdout",
     "output_type": "stream",
     "text": [
      "(3618, 10)\n",
      "(10300, 10)\n",
      "(2658, 10)\n",
      "(694, 10)\n",
      "(2099, 10)\n",
      "(191, 10)\n",
      "(202, 10)\n",
      "(502, 10)\n"
     ]
    }
   ],
   "source": [
    "#checks the number of samples of each class in the training set\n",
    "print(df_MEL.shape)\n",
    "print(df_NV.shape)\n",
    "print(df_BCC.shape)\n",
    "print(df_AK.shape)\n",
    "print(df_BKL.shape)\n",
    "print(df_DF.shape)\n",
    "print(df_VASC.shape)\n",
    "print(df_SCC.shape)"
   ]
  },
  {
   "cell_type": "code",
   "execution_count": 9,
   "metadata": {},
   "outputs": [],
   "source": [
    "df_train = df_NV"
   ]
  },
  {
   "cell_type": "code",
   "execution_count": 25,
   "metadata": {},
   "outputs": [],
   "source": [
    "#you have to run this cell for each class (just not for the class with more samples, NV in this case)\n",
    "rg = 10300/502\n",
    "for i in range(round(rg)):\n",
    "    df_train = df_train.append(df_SCC,ignore_index=True)"
   ]
  },
  {
   "cell_type": "code",
   "execution_count": 26,
   "metadata": {},
   "outputs": [
    {
     "name": "stdout",
     "output_type": "stream",
     "text": [
      "10854.0\n",
      "10300.0\n",
      "10632.0\n",
      "10410.0\n",
      "10495.0\n",
      "10314.0\n",
      "10302.0\n",
      "10542.0\n"
     ]
    }
   ],
   "source": [
    "#checking if data is balanced\n",
    "for column in columns:\n",
    "    print(sum(df_train[column]))"
   ]
  },
  {
   "cell_type": "code",
   "execution_count": 27,
   "metadata": {},
   "outputs": [],
   "source": [
    "#saves the training set dataframe into a csv file\n",
    "df_train.to_csv('train_ground_truth.csv')"
   ]
  }
 ],
 "metadata": {
  "kernelspec": {
   "display_name": "Python 3",
   "language": "python",
   "name": "python3"
  },
  "language_info": {
   "codemirror_mode": {
    "name": "ipython",
    "version": 3
   },
   "file_extension": ".py",
   "mimetype": "text/x-python",
   "name": "python",
   "nbconvert_exporter": "python",
   "pygments_lexer": "ipython3",
   "version": "3.6.5"
  }
 },
 "nbformat": 4,
 "nbformat_minor": 2
}
